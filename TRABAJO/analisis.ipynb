import pandas as pd
import matplotlib.pyplot as plt

df = pd.read_csv("productos.csv")
df["tipo_piel"].value_counts().plot(kind="bar", title="Productos por tipo de piel")
plt.xlabel("Tipo de piel")
plt.ylabel("Cantidad de productos")
plt.show()
